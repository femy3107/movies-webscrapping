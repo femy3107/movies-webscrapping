{
  "nbformat": 4,
  "nbformat_minor": 0,
  "metadata": {
    "colab": {
      "name": "MOVIELIST.ipynb",
      "provenance": [],
      "collapsed_sections": [],
      "authorship_tag": "ABX9TyOSiB/3fy+gkuqOAspKXSFT",
      "include_colab_link": true
    },
    "kernelspec": {
      "name": "python3",
      "display_name": "Python 3"
    },
    "language_info": {
      "name": "python"
    }
  },
  "cells": [
    {
      "cell_type": "markdown",
      "metadata": {
        "id": "view-in-github",
        "colab_type": "text"
      },
      "source": [
        "<a href=\"https://colab.research.google.com/github/femy3107/movies-webscrapping/blob/main/MOVIELIST.ipynb\" target=\"_parent\"><img src=\"https://colab.research.google.com/assets/colab-badge.svg\" alt=\"Open In Colab\"/></a>"
      ]
    },
    {
      "cell_type": "code",
      "metadata": {
        "id": "pqQpoRNau28N"
      },
      "source": [
        "import requests\n",
        "from requests import get\n",
        "from bs4 import BeautifulSoup\n",
        "import pandas as pd\n",
        "import numpy as np\n",
        "\n",
        "from time import sleep\n",
        "from random import randint"
      ],
      "execution_count": 1,
      "outputs": []
    },
    {
      "cell_type": "code",
      "metadata": {
        "id": "OULYnRoYvKCQ"
      },
      "source": [
        "headers = {\"Accept-Language\": \"en-US,en;q=0.5\"}\n",
        "\n",
        "titles = []\n",
        "years = []\n",
        "time = []\n",
        "metascores = []\n",
        "genre = []\n",
        "star = []\n",
        "votes = []\n",
        "imdb_ratings = []\n",
        "\n",
        "\n",
        "pages = np.arange(1, 200, 50)\n",
        "\n",
        "for page in pages: \n",
        "\n",
        "  page = requests.get('https://www.imdb.com/search/title/?release_date=2021-01-01,2021-12-31&sort=num_votes,desc&start=' + str(page) + \"&ref_=adv_nxt\", headers=headers)\n",
        "\n",
        "  soup = BeautifulSoup(page.text, 'html.parser')\n",
        "  movie = soup.find_all('div', class_='lister-item mode-advanced')\n",
        "  \n",
        "  sleep(randint(2,5))\n",
        "  for i in movie:\n",
        "    name = i.h3.a.text.replace('(','').replace(')','') \n",
        "    titles.append(name)\n",
        "\n",
        "    year = i.h3.find('span',attrs={'class':'lister-item-year text-muted unbold'}).text.replace('(','').replace(')','') if i.find('span', class_='lister-item-year text-muted unbold') else ''\n",
        "    years.append(year)\n",
        "\n",
        "    duration = i.find('span',attrs={'class':'runtime'}).text  if i.find('span', class_='runtime') else ''\n",
        "    time.append(duration)\n",
        "\n",
        "    m_score = i.find('span',attrs={'class':'metascore'}).text if i.find('span', class_='metascore') else ''\n",
        "    metascores.append(m_score)\n",
        "\n",
        "    gen_info=i.find('span',attrs={'class':'genre'}).text.replace('\\n','')  if i.find('span', class_='genre') else ''\n",
        "    genre.append(gen_info)\n",
        "\n",
        "    star_info=i.find('div',attrs={'class':'inline-block ratings-imdb-rating'}).text.replace('\\n','') if i.find('div', class_='inline-block ratings-imdb-rating') else ''\n",
        "    star.append(star_info)\n",
        "\n",
        "    nv = i.find_all('span', attrs={'name': 'nv'})\n",
        "        \n",
        "    vote = nv[0].text\n",
        "    votes.append(vote)\n",
        "\n",
        "    imdb = float(i.strong.text)\n",
        "    imdb_ratings.append(imdb)\n",
        "\n",
        "    \n",
        "\n",
        "\n",
        "\n",
        "\n",
        "\n",
        "        "
      ],
      "execution_count": 22,
      "outputs": []
    },
    {
      "cell_type": "code",
      "metadata": {
        "id": "6dh8DyL9vKEi"
      },
      "source": [
        "movies = pd.DataFrame({\n",
        "'movie': titles,\n",
        "'year': years,\n",
        "'timeMin': time,\n",
        "'metascore': metascores,\n",
        "'genre_info':genre,\n",
        "'stars':star,\n",
        "'voting': votes,\n",
        "'imdb': imdb_ratings})\n"
      ],
      "execution_count": 23,
      "outputs": []
    },
    {
      "cell_type": "code",
      "metadata": {
        "id": "K4RvwgAHvKHy",
        "colab": {
          "base_uri": "https://localhost:8080/",
          "height": 417
        },
        "outputId": "bac012d4-c258-47d5-b338-c5e105e4610f"
      },
      "source": [
        "movies"
      ],
      "execution_count": 24,
      "outputs": [
        {
          "output_type": "execute_result",
          "data": {
            "text/html": [
              "<div>\n",
              "<style scoped>\n",
              "    .dataframe tbody tr th:only-of-type {\n",
              "        vertical-align: middle;\n",
              "    }\n",
              "\n",
              "    .dataframe tbody tr th {\n",
              "        vertical-align: top;\n",
              "    }\n",
              "\n",
              "    .dataframe thead th {\n",
              "        text-align: right;\n",
              "    }\n",
              "</style>\n",
              "<table border=\"1\" class=\"dataframe\">\n",
              "  <thead>\n",
              "    <tr style=\"text-align: right;\">\n",
              "      <th></th>\n",
              "      <th>movie</th>\n",
              "      <th>year</th>\n",
              "      <th>timeMin</th>\n",
              "      <th>metascore</th>\n",
              "      <th>genre_info</th>\n",
              "      <th>stars</th>\n",
              "      <th>voting</th>\n",
              "      <th>imdb</th>\n",
              "    </tr>\n",
              "  </thead>\n",
              "  <tbody>\n",
              "    <tr>\n",
              "      <th>0</th>\n",
              "      <td>Zack Snyder's Justice League</td>\n",
              "      <td>2021</td>\n",
              "      <td>242 min</td>\n",
              "      <td>54</td>\n",
              "      <td>Action, Adventure, Fantasy</td>\n",
              "      <td>8.1</td>\n",
              "      <td>305,981</td>\n",
              "      <td>8.1</td>\n",
              "    </tr>\n",
              "    <tr>\n",
              "      <th>1</th>\n",
              "      <td>Aspirants</td>\n",
              "      <td>2021–</td>\n",
              "      <td>45 min</td>\n",
              "      <td></td>\n",
              "      <td>Drama</td>\n",
              "      <td>9.0</td>\n",
              "      <td>271,712</td>\n",
              "      <td>9.0</td>\n",
              "    </tr>\n",
              "    <tr>\n",
              "      <th>2</th>\n",
              "      <td>WandaVision</td>\n",
              "      <td>2021</td>\n",
              "      <td>350 min</td>\n",
              "      <td></td>\n",
              "      <td>Action, Comedy, Drama</td>\n",
              "      <td>8.1</td>\n",
              "      <td>185,274</td>\n",
              "      <td>8.1</td>\n",
              "    </tr>\n",
              "    <tr>\n",
              "      <th>3</th>\n",
              "      <td>Radhe</td>\n",
              "      <td>2021</td>\n",
              "      <td>135 min</td>\n",
              "      <td></td>\n",
              "      <td>Action, Crime, Thriller</td>\n",
              "      <td>1.8</td>\n",
              "      <td>163,375</td>\n",
              "      <td>1.8</td>\n",
              "    </tr>\n",
              "    <tr>\n",
              "      <th>4</th>\n",
              "      <td>Godzilla vs. Kong</td>\n",
              "      <td>2021</td>\n",
              "      <td>113 min</td>\n",
              "      <td>59</td>\n",
              "      <td>Action, Sci-Fi, Thriller</td>\n",
              "      <td>6.4</td>\n",
              "      <td>145,364</td>\n",
              "      <td>6.4</td>\n",
              "    </tr>\n",
              "    <tr>\n",
              "      <th>...</th>\n",
              "      <td>...</td>\n",
              "      <td>...</td>\n",
              "      <td>...</td>\n",
              "      <td>...</td>\n",
              "      <td>...</td>\n",
              "      <td>...</td>\n",
              "      <td>...</td>\n",
              "      <td>...</td>\n",
              "    </tr>\n",
              "    <tr>\n",
              "      <th>195</th>\n",
              "      <td>Krack</td>\n",
              "      <td>2021</td>\n",
              "      <td>154 min</td>\n",
              "      <td></td>\n",
              "      <td>Action, Crime, Thriller</td>\n",
              "      <td>7.3</td>\n",
              "      <td>5,261</td>\n",
              "      <td>7.3</td>\n",
              "    </tr>\n",
              "    <tr>\n",
              "      <th>196</th>\n",
              "      <td>Love, Death &amp; Robots</td>\n",
              "      <td>2019–</td>\n",
              "      <td>13 min</td>\n",
              "      <td></td>\n",
              "      <td>Animation, Short, Comedy</td>\n",
              "      <td>6.6</td>\n",
              "      <td>5,219</td>\n",
              "      <td>6.6</td>\n",
              "    </tr>\n",
              "    <tr>\n",
              "      <th>197</th>\n",
              "      <td>November Story</td>\n",
              "      <td>2021–</td>\n",
              "      <td>40 min</td>\n",
              "      <td></td>\n",
              "      <td>Crime, Thriller</td>\n",
              "      <td>8.0</td>\n",
              "      <td>5,195</td>\n",
              "      <td>8.0</td>\n",
              "    </tr>\n",
              "    <tr>\n",
              "      <th>198</th>\n",
              "      <td>Invincible</td>\n",
              "      <td>2021–</td>\n",
              "      <td>46 min</td>\n",
              "      <td></td>\n",
              "      <td>Animation, Action, Adventure</td>\n",
              "      <td>9.3</td>\n",
              "      <td>5,189</td>\n",
              "      <td>9.3</td>\n",
              "    </tr>\n",
              "    <tr>\n",
              "      <th>199</th>\n",
              "      <td>The Last Hour</td>\n",
              "      <td>2021–</td>\n",
              "      <td>36 min</td>\n",
              "      <td></td>\n",
              "      <td>Crime, Drama, Mystery</td>\n",
              "      <td>7.5</td>\n",
              "      <td>5,187</td>\n",
              "      <td>7.5</td>\n",
              "    </tr>\n",
              "  </tbody>\n",
              "</table>\n",
              "<p>200 rows × 8 columns</p>\n",
              "</div>"
            ],
            "text/plain": [
              "                            movie    year  timeMin  ... stars   voting imdb\n",
              "0    Zack Snyder's Justice League    2021  242 min  ...   8.1  305,981  8.1\n",
              "1                       Aspirants  2021–    45 min  ...   9.0  271,712  9.0\n",
              "2                     WandaVision    2021  350 min  ...   8.1  185,274  8.1\n",
              "3                           Radhe    2021  135 min  ...   1.8  163,375  1.8\n",
              "4               Godzilla vs. Kong    2021  113 min  ...   6.4  145,364  6.4\n",
              "..                            ...     ...      ...  ...   ...      ...  ...\n",
              "195                         Krack    2021  154 min  ...   7.3    5,261  7.3\n",
              "196          Love, Death & Robots  2019–    13 min  ...   6.6    5,219  6.6\n",
              "197                November Story  2021–    40 min  ...   8.0    5,195  8.0\n",
              "198                    Invincible  2021–    46 min  ...   9.3    5,189  9.3\n",
              "199                 The Last Hour  2021–    36 min  ...   7.5    5,187  7.5\n",
              "\n",
              "[200 rows x 8 columns]"
            ]
          },
          "metadata": {
            "tags": []
          },
          "execution_count": 24
        }
      ]
    },
    {
      "cell_type": "code",
      "metadata": {
        "id": "-E_4BQVFvKJt"
      },
      "source": [
        "movies.to_csv('movie_data.csv',index=False)"
      ],
      "execution_count": 25,
      "outputs": []
    },
    {
      "cell_type": "code",
      "metadata": {
        "id": "gEOP482uvKNZ"
      },
      "source": [
        ""
      ],
      "execution_count": null,
      "outputs": []
    },
    {
      "cell_type": "code",
      "metadata": {
        "id": "OGuGKWqivKPd"
      },
      "source": [
        ""
      ],
      "execution_count": null,
      "outputs": []
    },
    {
      "cell_type": "code",
      "metadata": {
        "id": "dKpzweyKvKTJ"
      },
      "source": [
        ""
      ],
      "execution_count": null,
      "outputs": []
    },
    {
      "cell_type": "code",
      "metadata": {
        "id": "BdWlFEVLvKVD"
      },
      "source": [
        ""
      ],
      "execution_count": null,
      "outputs": []
    },
    {
      "cell_type": "code",
      "metadata": {
        "id": "GYW_TbsbvKZY"
      },
      "source": [
        ""
      ],
      "execution_count": null,
      "outputs": []
    },
    {
      "cell_type": "code",
      "metadata": {
        "id": "zvw0qN6bvKb9"
      },
      "source": [
        ""
      ],
      "execution_count": null,
      "outputs": []
    },
    {
      "cell_type": "code",
      "metadata": {
        "id": "1aKnz9BZvKe4"
      },
      "source": [
        ""
      ],
      "execution_count": null,
      "outputs": []
    },
    {
      "cell_type": "code",
      "metadata": {
        "id": "7DCRN0J4vKhz"
      },
      "source": [
        ""
      ],
      "execution_count": null,
      "outputs": []
    }
  ]
}